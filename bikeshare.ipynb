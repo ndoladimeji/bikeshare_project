{
 "cells": [
  {
   "cell_type": "code",
   "execution_count": 95,
   "id": "728933ab",
   "metadata": {},
   "outputs": [],
   "source": [
    "import pandas as pd"
   ]
  },
  {
   "cell_type": "code",
   "execution_count": 96,
   "id": "138a0d1f",
   "metadata": {},
   "outputs": [],
   "source": [
    "import numpy as np"
   ]
  },
  {
   "cell_type": "code",
   "execution_count": 97,
   "id": "4f36de06",
   "metadata": {},
   "outputs": [],
   "source": [
    "chicago_df = pd.read_csv('chicago.csv')"
   ]
  },
  {
   "cell_type": "code",
   "execution_count": 98,
   "id": "13a9b7b5",
   "metadata": {},
   "outputs": [
    {
     "data": {
      "text/html": [
       "<div>\n",
       "<style scoped>\n",
       "    .dataframe tbody tr th:only-of-type {\n",
       "        vertical-align: middle;\n",
       "    }\n",
       "\n",
       "    .dataframe tbody tr th {\n",
       "        vertical-align: top;\n",
       "    }\n",
       "\n",
       "    .dataframe thead th {\n",
       "        text-align: right;\n",
       "    }\n",
       "</style>\n",
       "<table border=\"1\" class=\"dataframe\">\n",
       "  <thead>\n",
       "    <tr style=\"text-align: right;\">\n",
       "      <th></th>\n",
       "      <th>Unnamed: 0</th>\n",
       "      <th>Start Time</th>\n",
       "      <th>End Time</th>\n",
       "      <th>Trip Duration</th>\n",
       "      <th>Start Station</th>\n",
       "      <th>End Station</th>\n",
       "      <th>User Type</th>\n",
       "      <th>Gender</th>\n",
       "      <th>Birth Year</th>\n",
       "    </tr>\n",
       "  </thead>\n",
       "  <tbody>\n",
       "    <tr>\n",
       "      <th>0</th>\n",
       "      <td>1423854</td>\n",
       "      <td>2017-06-23 15:09:32</td>\n",
       "      <td>2017-06-23 15:14:53</td>\n",
       "      <td>321</td>\n",
       "      <td>Wood St &amp; Hubbard St</td>\n",
       "      <td>Damen Ave &amp; Chicago Ave</td>\n",
       "      <td>Subscriber</td>\n",
       "      <td>Male</td>\n",
       "      <td>1992.0</td>\n",
       "    </tr>\n",
       "    <tr>\n",
       "      <th>1</th>\n",
       "      <td>955915</td>\n",
       "      <td>2017-05-25 18:19:03</td>\n",
       "      <td>2017-05-25 18:45:53</td>\n",
       "      <td>1610</td>\n",
       "      <td>Theater on the Lake</td>\n",
       "      <td>Sheffield Ave &amp; Waveland Ave</td>\n",
       "      <td>Subscriber</td>\n",
       "      <td>Female</td>\n",
       "      <td>1992.0</td>\n",
       "    </tr>\n",
       "    <tr>\n",
       "      <th>2</th>\n",
       "      <td>9031</td>\n",
       "      <td>2017-01-04 08:27:49</td>\n",
       "      <td>2017-01-04 08:34:45</td>\n",
       "      <td>416</td>\n",
       "      <td>May St &amp; Taylor St</td>\n",
       "      <td>Wood St &amp; Taylor St</td>\n",
       "      <td>Subscriber</td>\n",
       "      <td>Male</td>\n",
       "      <td>1981.0</td>\n",
       "    </tr>\n",
       "    <tr>\n",
       "      <th>3</th>\n",
       "      <td>304487</td>\n",
       "      <td>2017-03-06 13:49:38</td>\n",
       "      <td>2017-03-06 13:55:28</td>\n",
       "      <td>350</td>\n",
       "      <td>Christiana Ave &amp; Lawrence Ave</td>\n",
       "      <td>St. Louis Ave &amp; Balmoral Ave</td>\n",
       "      <td>Subscriber</td>\n",
       "      <td>Male</td>\n",
       "      <td>1986.0</td>\n",
       "    </tr>\n",
       "    <tr>\n",
       "      <th>4</th>\n",
       "      <td>45207</td>\n",
       "      <td>2017-01-17 14:53:07</td>\n",
       "      <td>2017-01-17 15:02:01</td>\n",
       "      <td>534</td>\n",
       "      <td>Clark St &amp; Randolph St</td>\n",
       "      <td>Desplaines St &amp; Jackson Blvd</td>\n",
       "      <td>Subscriber</td>\n",
       "      <td>Male</td>\n",
       "      <td>1975.0</td>\n",
       "    </tr>\n",
       "    <tr>\n",
       "      <th>...</th>\n",
       "      <td>...</td>\n",
       "      <td>...</td>\n",
       "      <td>...</td>\n",
       "      <td>...</td>\n",
       "      <td>...</td>\n",
       "      <td>...</td>\n",
       "      <td>...</td>\n",
       "      <td>...</td>\n",
       "      <td>...</td>\n",
       "    </tr>\n",
       "    <tr>\n",
       "      <th>299995</th>\n",
       "      <td>64825</td>\n",
       "      <td>2017-01-21 13:18:00</td>\n",
       "      <td>2017-01-21 13:27:50</td>\n",
       "      <td>590</td>\n",
       "      <td>Orleans St &amp; Elm St (*)</td>\n",
       "      <td>Sheffield Ave &amp; Webster Ave</td>\n",
       "      <td>Subscriber</td>\n",
       "      <td>Male</td>\n",
       "      <td>1965.0</td>\n",
       "    </tr>\n",
       "    <tr>\n",
       "      <th>299996</th>\n",
       "      <td>695993</td>\n",
       "      <td>2017-04-28 19:32:19</td>\n",
       "      <td>2017-04-28 19:51:18</td>\n",
       "      <td>1139</td>\n",
       "      <td>Ashland Ave &amp; Blackhawk St</td>\n",
       "      <td>Clark St &amp; Elm St</td>\n",
       "      <td>Customer</td>\n",
       "      <td>NaN</td>\n",
       "      <td>NaN</td>\n",
       "    </tr>\n",
       "    <tr>\n",
       "      <th>299997</th>\n",
       "      <td>159685</td>\n",
       "      <td>2017-02-12 09:59:01</td>\n",
       "      <td>2017-02-12 10:21:49</td>\n",
       "      <td>1368</td>\n",
       "      <td>Ravenswood Ave &amp; Lawrence Ave</td>\n",
       "      <td>Stockton Dr &amp; Wrightwood Ave</td>\n",
       "      <td>Subscriber</td>\n",
       "      <td>Female</td>\n",
       "      <td>1988.0</td>\n",
       "    </tr>\n",
       "    <tr>\n",
       "      <th>299998</th>\n",
       "      <td>564681</td>\n",
       "      <td>2017-04-16 17:07:15</td>\n",
       "      <td>2017-04-16 17:19:00</td>\n",
       "      <td>705</td>\n",
       "      <td>Sheffield Ave &amp; Willow St</td>\n",
       "      <td>Clark St &amp; Chicago Ave</td>\n",
       "      <td>Customer</td>\n",
       "      <td>NaN</td>\n",
       "      <td>NaN</td>\n",
       "    </tr>\n",
       "    <tr>\n",
       "      <th>299999</th>\n",
       "      <td>1021247</td>\n",
       "      <td>2017-05-30 12:38:28</td>\n",
       "      <td>2017-05-30 12:55:36</td>\n",
       "      <td>1028</td>\n",
       "      <td>Wacker Dr &amp; Washington St</td>\n",
       "      <td>Damen Ave &amp; Division St</td>\n",
       "      <td>Subscriber</td>\n",
       "      <td>Male</td>\n",
       "      <td>1984.0</td>\n",
       "    </tr>\n",
       "  </tbody>\n",
       "</table>\n",
       "<p>300000 rows × 9 columns</p>\n",
       "</div>"
      ],
      "text/plain": [
       "        Unnamed: 0           Start Time             End Time  Trip Duration  \\\n",
       "0          1423854  2017-06-23 15:09:32  2017-06-23 15:14:53            321   \n",
       "1           955915  2017-05-25 18:19:03  2017-05-25 18:45:53           1610   \n",
       "2             9031  2017-01-04 08:27:49  2017-01-04 08:34:45            416   \n",
       "3           304487  2017-03-06 13:49:38  2017-03-06 13:55:28            350   \n",
       "4            45207  2017-01-17 14:53:07  2017-01-17 15:02:01            534   \n",
       "...            ...                  ...                  ...            ...   \n",
       "299995       64825  2017-01-21 13:18:00  2017-01-21 13:27:50            590   \n",
       "299996      695993  2017-04-28 19:32:19  2017-04-28 19:51:18           1139   \n",
       "299997      159685  2017-02-12 09:59:01  2017-02-12 10:21:49           1368   \n",
       "299998      564681  2017-04-16 17:07:15  2017-04-16 17:19:00            705   \n",
       "299999     1021247  2017-05-30 12:38:28  2017-05-30 12:55:36           1028   \n",
       "\n",
       "                        Start Station                   End Station  \\\n",
       "0                Wood St & Hubbard St       Damen Ave & Chicago Ave   \n",
       "1                 Theater on the Lake  Sheffield Ave & Waveland Ave   \n",
       "2                  May St & Taylor St           Wood St & Taylor St   \n",
       "3       Christiana Ave & Lawrence Ave  St. Louis Ave & Balmoral Ave   \n",
       "4              Clark St & Randolph St  Desplaines St & Jackson Blvd   \n",
       "...                               ...                           ...   \n",
       "299995        Orleans St & Elm St (*)   Sheffield Ave & Webster Ave   \n",
       "299996     Ashland Ave & Blackhawk St             Clark St & Elm St   \n",
       "299997  Ravenswood Ave & Lawrence Ave  Stockton Dr & Wrightwood Ave   \n",
       "299998      Sheffield Ave & Willow St        Clark St & Chicago Ave   \n",
       "299999      Wacker Dr & Washington St       Damen Ave & Division St   \n",
       "\n",
       "         User Type  Gender  Birth Year  \n",
       "0       Subscriber    Male      1992.0  \n",
       "1       Subscriber  Female      1992.0  \n",
       "2       Subscriber    Male      1981.0  \n",
       "3       Subscriber    Male      1986.0  \n",
       "4       Subscriber    Male      1975.0  \n",
       "...            ...     ...         ...  \n",
       "299995  Subscriber    Male      1965.0  \n",
       "299996    Customer     NaN         NaN  \n",
       "299997  Subscriber  Female      1988.0  \n",
       "299998    Customer     NaN         NaN  \n",
       "299999  Subscriber    Male      1984.0  \n",
       "\n",
       "[300000 rows x 9 columns]"
      ]
     },
     "execution_count": 98,
     "metadata": {},
     "output_type": "execute_result"
    }
   ],
   "source": [
    "chicago_df"
   ]
  },
  {
   "cell_type": "code",
   "execution_count": 99,
   "id": "ad8cba38",
   "metadata": {},
   "outputs": [],
   "source": [
    "new_york_city_df = pd.read_csv('new_york_city.csv')"
   ]
  },
  {
   "cell_type": "code",
   "execution_count": 100,
   "id": "8630e44b",
   "metadata": {},
   "outputs": [],
   "source": [
    "washington_df = pd.read_csv('washington.csv')"
   ]
  },
  {
   "cell_type": "code",
   "execution_count": 101,
   "id": "6a7c9ca8",
   "metadata": {},
   "outputs": [],
   "source": [
    "df = [chicago_df, new_york_city_df, washington_df]"
   ]
  },
  {
   "cell_type": "code",
   "execution_count": 102,
   "id": "2ea08990",
   "metadata": {},
   "outputs": [],
   "source": [
    "for data in df:\n",
    "    data['Start Time'] = pd.to_datetime(data['Start Time'])\n",
    "    data['month'] = data['Start Time'].dt.month\n",
    "    data['day_of_week'] = data['Start Time'].dt.day_name()\n",
    "    data['hour'] = data['Start Time'].dt.hour"
   ]
  },
  {
   "cell_type": "code",
   "execution_count": 103,
   "id": "9777ef0d",
   "metadata": {},
   "outputs": [
    {
     "data": {
      "text/html": [
       "<div>\n",
       "<style scoped>\n",
       "    .dataframe tbody tr th:only-of-type {\n",
       "        vertical-align: middle;\n",
       "    }\n",
       "\n",
       "    .dataframe tbody tr th {\n",
       "        vertical-align: top;\n",
       "    }\n",
       "\n",
       "    .dataframe thead th {\n",
       "        text-align: right;\n",
       "    }\n",
       "</style>\n",
       "<table border=\"1\" class=\"dataframe\">\n",
       "  <thead>\n",
       "    <tr style=\"text-align: right;\">\n",
       "      <th></th>\n",
       "      <th>Unnamed: 0</th>\n",
       "      <th>Start Time</th>\n",
       "      <th>End Time</th>\n",
       "      <th>Trip Duration</th>\n",
       "      <th>Start Station</th>\n",
       "      <th>End Station</th>\n",
       "      <th>User Type</th>\n",
       "      <th>Gender</th>\n",
       "      <th>Birth Year</th>\n",
       "      <th>month</th>\n",
       "      <th>day_of_week</th>\n",
       "      <th>hour</th>\n",
       "    </tr>\n",
       "  </thead>\n",
       "  <tbody>\n",
       "    <tr>\n",
       "      <th>0</th>\n",
       "      <td>1423854</td>\n",
       "      <td>2017-06-23 15:09:32</td>\n",
       "      <td>2017-06-23 15:14:53</td>\n",
       "      <td>321</td>\n",
       "      <td>Wood St &amp; Hubbard St</td>\n",
       "      <td>Damen Ave &amp; Chicago Ave</td>\n",
       "      <td>Subscriber</td>\n",
       "      <td>Male</td>\n",
       "      <td>1992.0</td>\n",
       "      <td>6</td>\n",
       "      <td>Friday</td>\n",
       "      <td>15</td>\n",
       "    </tr>\n",
       "    <tr>\n",
       "      <th>1</th>\n",
       "      <td>955915</td>\n",
       "      <td>2017-05-25 18:19:03</td>\n",
       "      <td>2017-05-25 18:45:53</td>\n",
       "      <td>1610</td>\n",
       "      <td>Theater on the Lake</td>\n",
       "      <td>Sheffield Ave &amp; Waveland Ave</td>\n",
       "      <td>Subscriber</td>\n",
       "      <td>Female</td>\n",
       "      <td>1992.0</td>\n",
       "      <td>5</td>\n",
       "      <td>Thursday</td>\n",
       "      <td>18</td>\n",
       "    </tr>\n",
       "    <tr>\n",
       "      <th>2</th>\n",
       "      <td>9031</td>\n",
       "      <td>2017-01-04 08:27:49</td>\n",
       "      <td>2017-01-04 08:34:45</td>\n",
       "      <td>416</td>\n",
       "      <td>May St &amp; Taylor St</td>\n",
       "      <td>Wood St &amp; Taylor St</td>\n",
       "      <td>Subscriber</td>\n",
       "      <td>Male</td>\n",
       "      <td>1981.0</td>\n",
       "      <td>1</td>\n",
       "      <td>Wednesday</td>\n",
       "      <td>8</td>\n",
       "    </tr>\n",
       "    <tr>\n",
       "      <th>3</th>\n",
       "      <td>304487</td>\n",
       "      <td>2017-03-06 13:49:38</td>\n",
       "      <td>2017-03-06 13:55:28</td>\n",
       "      <td>350</td>\n",
       "      <td>Christiana Ave &amp; Lawrence Ave</td>\n",
       "      <td>St. Louis Ave &amp; Balmoral Ave</td>\n",
       "      <td>Subscriber</td>\n",
       "      <td>Male</td>\n",
       "      <td>1986.0</td>\n",
       "      <td>3</td>\n",
       "      <td>Monday</td>\n",
       "      <td>13</td>\n",
       "    </tr>\n",
       "    <tr>\n",
       "      <th>4</th>\n",
       "      <td>45207</td>\n",
       "      <td>2017-01-17 14:53:07</td>\n",
       "      <td>2017-01-17 15:02:01</td>\n",
       "      <td>534</td>\n",
       "      <td>Clark St &amp; Randolph St</td>\n",
       "      <td>Desplaines St &amp; Jackson Blvd</td>\n",
       "      <td>Subscriber</td>\n",
       "      <td>Male</td>\n",
       "      <td>1975.0</td>\n",
       "      <td>1</td>\n",
       "      <td>Tuesday</td>\n",
       "      <td>14</td>\n",
       "    </tr>\n",
       "    <tr>\n",
       "      <th>...</th>\n",
       "      <td>...</td>\n",
       "      <td>...</td>\n",
       "      <td>...</td>\n",
       "      <td>...</td>\n",
       "      <td>...</td>\n",
       "      <td>...</td>\n",
       "      <td>...</td>\n",
       "      <td>...</td>\n",
       "      <td>...</td>\n",
       "      <td>...</td>\n",
       "      <td>...</td>\n",
       "      <td>...</td>\n",
       "    </tr>\n",
       "    <tr>\n",
       "      <th>299995</th>\n",
       "      <td>64825</td>\n",
       "      <td>2017-01-21 13:18:00</td>\n",
       "      <td>2017-01-21 13:27:50</td>\n",
       "      <td>590</td>\n",
       "      <td>Orleans St &amp; Elm St (*)</td>\n",
       "      <td>Sheffield Ave &amp; Webster Ave</td>\n",
       "      <td>Subscriber</td>\n",
       "      <td>Male</td>\n",
       "      <td>1965.0</td>\n",
       "      <td>1</td>\n",
       "      <td>Saturday</td>\n",
       "      <td>13</td>\n",
       "    </tr>\n",
       "    <tr>\n",
       "      <th>299996</th>\n",
       "      <td>695993</td>\n",
       "      <td>2017-04-28 19:32:19</td>\n",
       "      <td>2017-04-28 19:51:18</td>\n",
       "      <td>1139</td>\n",
       "      <td>Ashland Ave &amp; Blackhawk St</td>\n",
       "      <td>Clark St &amp; Elm St</td>\n",
       "      <td>Customer</td>\n",
       "      <td>NaN</td>\n",
       "      <td>NaN</td>\n",
       "      <td>4</td>\n",
       "      <td>Friday</td>\n",
       "      <td>19</td>\n",
       "    </tr>\n",
       "    <tr>\n",
       "      <th>299997</th>\n",
       "      <td>159685</td>\n",
       "      <td>2017-02-12 09:59:01</td>\n",
       "      <td>2017-02-12 10:21:49</td>\n",
       "      <td>1368</td>\n",
       "      <td>Ravenswood Ave &amp; Lawrence Ave</td>\n",
       "      <td>Stockton Dr &amp; Wrightwood Ave</td>\n",
       "      <td>Subscriber</td>\n",
       "      <td>Female</td>\n",
       "      <td>1988.0</td>\n",
       "      <td>2</td>\n",
       "      <td>Sunday</td>\n",
       "      <td>9</td>\n",
       "    </tr>\n",
       "    <tr>\n",
       "      <th>299998</th>\n",
       "      <td>564681</td>\n",
       "      <td>2017-04-16 17:07:15</td>\n",
       "      <td>2017-04-16 17:19:00</td>\n",
       "      <td>705</td>\n",
       "      <td>Sheffield Ave &amp; Willow St</td>\n",
       "      <td>Clark St &amp; Chicago Ave</td>\n",
       "      <td>Customer</td>\n",
       "      <td>NaN</td>\n",
       "      <td>NaN</td>\n",
       "      <td>4</td>\n",
       "      <td>Sunday</td>\n",
       "      <td>17</td>\n",
       "    </tr>\n",
       "    <tr>\n",
       "      <th>299999</th>\n",
       "      <td>1021247</td>\n",
       "      <td>2017-05-30 12:38:28</td>\n",
       "      <td>2017-05-30 12:55:36</td>\n",
       "      <td>1028</td>\n",
       "      <td>Wacker Dr &amp; Washington St</td>\n",
       "      <td>Damen Ave &amp; Division St</td>\n",
       "      <td>Subscriber</td>\n",
       "      <td>Male</td>\n",
       "      <td>1984.0</td>\n",
       "      <td>5</td>\n",
       "      <td>Tuesday</td>\n",
       "      <td>12</td>\n",
       "    </tr>\n",
       "  </tbody>\n",
       "</table>\n",
       "<p>300000 rows × 12 columns</p>\n",
       "</div>"
      ],
      "text/plain": [
       "        Unnamed: 0          Start Time             End Time  Trip Duration  \\\n",
       "0          1423854 2017-06-23 15:09:32  2017-06-23 15:14:53            321   \n",
       "1           955915 2017-05-25 18:19:03  2017-05-25 18:45:53           1610   \n",
       "2             9031 2017-01-04 08:27:49  2017-01-04 08:34:45            416   \n",
       "3           304487 2017-03-06 13:49:38  2017-03-06 13:55:28            350   \n",
       "4            45207 2017-01-17 14:53:07  2017-01-17 15:02:01            534   \n",
       "...            ...                 ...                  ...            ...   \n",
       "299995       64825 2017-01-21 13:18:00  2017-01-21 13:27:50            590   \n",
       "299996      695993 2017-04-28 19:32:19  2017-04-28 19:51:18           1139   \n",
       "299997      159685 2017-02-12 09:59:01  2017-02-12 10:21:49           1368   \n",
       "299998      564681 2017-04-16 17:07:15  2017-04-16 17:19:00            705   \n",
       "299999     1021247 2017-05-30 12:38:28  2017-05-30 12:55:36           1028   \n",
       "\n",
       "                        Start Station                   End Station  \\\n",
       "0                Wood St & Hubbard St       Damen Ave & Chicago Ave   \n",
       "1                 Theater on the Lake  Sheffield Ave & Waveland Ave   \n",
       "2                  May St & Taylor St           Wood St & Taylor St   \n",
       "3       Christiana Ave & Lawrence Ave  St. Louis Ave & Balmoral Ave   \n",
       "4              Clark St & Randolph St  Desplaines St & Jackson Blvd   \n",
       "...                               ...                           ...   \n",
       "299995        Orleans St & Elm St (*)   Sheffield Ave & Webster Ave   \n",
       "299996     Ashland Ave & Blackhawk St             Clark St & Elm St   \n",
       "299997  Ravenswood Ave & Lawrence Ave  Stockton Dr & Wrightwood Ave   \n",
       "299998      Sheffield Ave & Willow St        Clark St & Chicago Ave   \n",
       "299999      Wacker Dr & Washington St       Damen Ave & Division St   \n",
       "\n",
       "         User Type  Gender  Birth Year  month day_of_week  hour  \n",
       "0       Subscriber    Male      1992.0      6      Friday    15  \n",
       "1       Subscriber  Female      1992.0      5    Thursday    18  \n",
       "2       Subscriber    Male      1981.0      1   Wednesday     8  \n",
       "3       Subscriber    Male      1986.0      3      Monday    13  \n",
       "4       Subscriber    Male      1975.0      1     Tuesday    14  \n",
       "...            ...     ...         ...    ...         ...   ...  \n",
       "299995  Subscriber    Male      1965.0      1    Saturday    13  \n",
       "299996    Customer     NaN         NaN      4      Friday    19  \n",
       "299997  Subscriber  Female      1988.0      2      Sunday     9  \n",
       "299998    Customer     NaN         NaN      4      Sunday    17  \n",
       "299999  Subscriber    Male      1984.0      5     Tuesday    12  \n",
       "\n",
       "[300000 rows x 12 columns]"
      ]
     },
     "execution_count": 103,
     "metadata": {},
     "output_type": "execute_result"
    }
   ],
   "source": [
    "df[0]"
   ]
  },
  {
   "cell_type": "code",
   "execution_count": 104,
   "id": "4e3009c3",
   "metadata": {},
   "outputs": [],
   "source": [
    "most_popular_month_list = []"
   ]
  },
  {
   "cell_type": "code",
   "execution_count": 105,
   "id": "bd9baf7e",
   "metadata": {},
   "outputs": [],
   "source": [
    "most_popular_day_list = []"
   ]
  },
  {
   "cell_type": "code",
   "execution_count": 106,
   "id": "5c5cd5bc",
   "metadata": {},
   "outputs": [],
   "source": [
    "most_popular_hour_list = []"
   ]
  },
  {
   "cell_type": "code",
   "execution_count": 107,
   "id": "7a5aed62",
   "metadata": {},
   "outputs": [],
   "source": [
    "cities = ['chicago', 'new york city', 'washington']"
   ]
  },
  {
   "cell_type": "code",
   "execution_count": 108,
   "id": "2ccc073b",
   "metadata": {},
   "outputs": [],
   "source": [
    "for data in df:\n",
    "    most_popular_month = data['month'].mode()[0]\n",
    "    most_popular_month_list.append(most_popular_month)\n",
    "    most_popular_day = data['day_of_week'].mode()[0]\n",
    "    most_popular_day_list.append(most_popular_day)\n",
    "    most_popular_hour = data['hour'].mode()[0]\n",
    "    most_popular_hour_list.append(most_popular_hour)"
   ]
  },
  {
   "cell_type": "code",
   "execution_count": 109,
   "id": "f6cb1fee",
   "metadata": {},
   "outputs": [
    {
     "name": "stdout",
     "output_type": "stream",
     "text": [
      "[6, 6, 6]\n",
      "['Tuesday', 'Wednesday', 'Wednesday']\n",
      "[17, 17, 8]\n"
     ]
    }
   ],
   "source": [
    "print(most_popular_month_list)\n",
    "print(most_popular_day_list)\n",
    "print(most_popular_hour_list)"
   ]
  },
  {
   "cell_type": "code",
   "execution_count": 110,
   "id": "3883ce0d",
   "metadata": {},
   "outputs": [
    {
     "name": "stdout",
     "output_type": "stream",
     "text": [
      "chicago 6\n",
      "new york city 6\n",
      "washington 6\n",
      "chicago Tuesday\n",
      "new york city Wednesday\n",
      "washington Wednesday\n",
      "chicago 17\n",
      "new york city 17\n",
      "washington 8\n"
     ]
    }
   ],
   "source": [
    "for x, y in zip(cities, most_popular_month_list):\n",
    "    print(x, y)\n",
    "for x, y in zip(cities, most_popular_day_list):\n",
    "    print(x, y)\n",
    "for x, y in zip(cities, most_popular_hour_list):\n",
    "    print(x, y)"
   ]
  },
  {
   "cell_type": "code",
   "execution_count": 111,
   "id": "0f770396",
   "metadata": {},
   "outputs": [],
   "source": [
    "most_popular_month_dict =  dict(zip(cities, most_popular_month_list))\n",
    "most_popular_day_dict = dict(zip(cities, most_popular_day_list))\n",
    "most_popular_hour_dict = dict(zip(cities, most_popular_hour_list))"
   ]
  },
  {
   "cell_type": "code",
   "execution_count": 112,
   "id": "d0ff93d0",
   "metadata": {},
   "outputs": [
    {
     "name": "stdout",
     "output_type": "stream",
     "text": [
      "{'chicago': 6, 'new york city': 6, 'washington': 6}\n",
      "{'chicago': 'Tuesday', 'new york city': 'Wednesday', 'washington': 'Wednesday'}\n",
      "{'chicago': 17, 'new york city': 17, 'washington': 8}\n"
     ]
    }
   ],
   "source": [
    "print(most_popular_month_dict)\n",
    "print(most_popular_day_dict)\n",
    "print(most_popular_hour_dict)"
   ]
  },
  {
   "cell_type": "code",
   "execution_count": 113,
   "id": "59f7b1e4",
   "metadata": {},
   "outputs": [],
   "source": [
    "most_common_start_station_list = []\n",
    "most_common_end_station_list = []\n",
    "most_common_match_list = []"
   ]
  },
  {
   "cell_type": "code",
   "execution_count": 114,
   "id": "7af9828a",
   "metadata": {},
   "outputs": [],
   "source": [
    "for data in df:\n",
    "    data['Start to End'] = data['Start Station'].str.cat(data['End Station'], sep = '-')\n",
    "    most_common_start_station = data['Start Station'].mode()[0]\n",
    "    most_common_start_station_list.append(most_common_start_station)\n",
    "    most_common_end_station = data['End Station'].mode()[0]\n",
    "    most_common_end_station_list.append(most_common_end_station)\n",
    "    most_common_match = data['Start to End'].mode()[0]\n",
    "    most_common_match_list.append(most_common_match)"
   ]
  },
  {
   "cell_type": "code",
   "execution_count": 115,
   "id": "7d79a87b",
   "metadata": {
    "scrolled": true
   },
   "outputs": [
    {
     "name": "stdout",
     "output_type": "stream",
     "text": [
      "['Streeter Dr & Grand Ave', 'Pershing Square North', 'Columbus Circle / Union Station']\n",
      "['Streeter Dr & Grand Ave', 'Pershing Square North', 'Columbus Circle / Union Station']\n",
      "['Lake Shore Dr & Monroe St-Streeter Dr & Grand Ave', 'E 7 St & Avenue A-Cooper Square & E 7 St', 'Jefferson Dr & 14th St SW-Jefferson Dr & 14th St SW']\n"
     ]
    }
   ],
   "source": [
    "print(most_common_start_station_list)\n",
    "print(most_common_end_station_list)\n",
    "print(most_common_match_list)"
   ]
  },
  {
   "cell_type": "code",
   "execution_count": 116,
   "id": "6ef3fc6c",
   "metadata": {},
   "outputs": [
    {
     "name": "stdout",
     "output_type": "stream",
     "text": [
      "chicago Streeter Dr & Grand Ave\n",
      "new york city Pershing Square North\n",
      "washington Columbus Circle / Union Station\n",
      "chicago Streeter Dr & Grand Ave\n",
      "new york city Pershing Square North\n",
      "washington Columbus Circle / Union Station\n",
      "chicago Lake Shore Dr & Monroe St-Streeter Dr & Grand Ave\n",
      "new york city E 7 St & Avenue A-Cooper Square & E 7 St\n",
      "washington Jefferson Dr & 14th St SW-Jefferson Dr & 14th St SW\n"
     ]
    }
   ],
   "source": [
    "for x, y in zip(cities, most_common_start_station_list):\n",
    "    print(x, y)\n",
    "for x, y in zip(cities, most_common_end_station_list):\n",
    "    print(x, y)\n",
    "for x, y in zip(cities, most_common_match_list):\n",
    "    print(x, y)"
   ]
  },
  {
   "cell_type": "code",
   "execution_count": 117,
   "id": "87b65d44",
   "metadata": {},
   "outputs": [],
   "source": [
    "most_common_start_station_dict = dict(zip(cities, most_common_start_station_list))\n",
    "most_common_end_station_dict = dict(zip(cities, most_common_end_station_list))\n",
    "most_common_match_dict = dict(zip(cities, most_common_match_list))"
   ]
  },
  {
   "cell_type": "code",
   "execution_count": 118,
   "id": "862efbce",
   "metadata": {},
   "outputs": [
    {
     "name": "stdout",
     "output_type": "stream",
     "text": [
      "{'chicago': 'Streeter Dr & Grand Ave', 'new york city': 'Pershing Square North', 'washington': 'Columbus Circle / Union Station'}\n",
      "{'chicago': 'Streeter Dr & Grand Ave', 'new york city': 'Pershing Square North', 'washington': 'Columbus Circle / Union Station'}\n",
      "{'chicago': 'Lake Shore Dr & Monroe St-Streeter Dr & Grand Ave', 'new york city': 'E 7 St & Avenue A-Cooper Square & E 7 St', 'washington': 'Jefferson Dr & 14th St SW-Jefferson Dr & 14th St SW'}\n"
     ]
    }
   ],
   "source": [
    "print(most_common_start_station_dict)\n",
    "print(most_common_end_station_dict)\n",
    "print(most_common_match_dict)"
   ]
  },
  {
   "cell_type": "code",
   "execution_count": 119,
   "id": "b33e4e31",
   "metadata": {},
   "outputs": [],
   "source": [
    "total_travel_time_list = []\n",
    "mean_travel_time_list = []"
   ]
  },
  {
   "cell_type": "code",
   "execution_count": 120,
   "id": "19cd9d72",
   "metadata": {},
   "outputs": [],
   "source": [
    "for data in df:\n",
    "    total_travel_time = round(data['Trip Duration'].sum())\n",
    "    minute, sec = divmod(total_travel_time, 60)\n",
    "    hour, minute = divmod(minute, 60)\n",
    "    total_travel_time = '{} hours {} minutes {} seconds'.format(hour, minute, sec)\n",
    "    total_travel_time_list.append(total_travel_time)\n",
    "    mean_travel_time = round(data['Trip Duration'].mean())\n",
    "    mean_travel_time_list.append(mean_travel_time)"
   ]
  },
  {
   "cell_type": "code",
   "execution_count": 121,
   "id": "75265468",
   "metadata": {},
   "outputs": [
    {
     "name": "stdout",
     "output_type": "stream",
     "text": [
      "['78019 hours 56 minutes 27 seconds', '74973 hours 40 minutes 48 seconds', '103106 hours 39 minutes 45 seconds']\n",
      "[936, 900, 1237]\n"
     ]
    }
   ],
   "source": [
    "print(total_travel_time_list)\n",
    "print(mean_travel_time_list)"
   ]
  },
  {
   "cell_type": "code",
   "execution_count": 122,
   "id": "68003e9d",
   "metadata": {},
   "outputs": [
    {
     "name": "stdout",
     "output_type": "stream",
     "text": [
      "chicago 78019 hours 56 minutes 27 seconds\n",
      "new york city 74973 hours 40 minutes 48 seconds\n",
      "washington 103106 hours 39 minutes 45 seconds\n",
      "chicago 936\n",
      "new york city 900\n",
      "washington 1237\n"
     ]
    }
   ],
   "source": [
    "for x, y in zip(cities, total_travel_time_list):\n",
    "    print (x, y)\n",
    "for x, y in zip(cities, mean_travel_time_list):\n",
    "    print (x, y)"
   ]
  },
  {
   "cell_type": "code",
   "execution_count": 123,
   "id": "512df1a2",
   "metadata": {},
   "outputs": [],
   "source": [
    "total_travel_time_dict = dict(zip(cities, total_travel_time_list))\n",
    "mean_travel_time_dict = dict(zip(cities, mean_travel_time_list))"
   ]
  },
  {
   "cell_type": "code",
   "execution_count": 124,
   "id": "c4438bc4",
   "metadata": {},
   "outputs": [
    {
     "name": "stdout",
     "output_type": "stream",
     "text": [
      "{'chicago': '78019 hours 56 minutes 27 seconds', 'new york city': '74973 hours 40 minutes 48 seconds', 'washington': '103106 hours 39 minutes 45 seconds'}\n",
      "{'chicago': 936, 'new york city': 900, 'washington': 1237}\n"
     ]
    }
   ],
   "source": [
    "print(total_travel_time_dict)\n",
    "print(mean_travel_time_dict)"
   ]
  },
  {
   "cell_type": "code",
   "execution_count": 125,
   "id": "d543f6a1",
   "metadata": {},
   "outputs": [],
   "source": [
    "user_type_stats_list = []\n",
    "gender_stats_list = []\n",
    "earliest_birth_year_list = []\n",
    "latest_birth_year_list = []\n",
    "most_common_birth_year_list = []"
   ]
  },
  {
   "cell_type": "code",
   "execution_count": 126,
   "id": "c2395ed5",
   "metadata": {},
   "outputs": [],
   "source": [
    "for data in df:\n",
    "    user_type_stats = data['User Type'].value_counts()\n",
    "    user_type_stats_list.append(user_type_stats)\n",
    "    try:\n",
    "        gender_stats = data['Gender'].value_counts()\n",
    "        gender_stats_list.append(gender_stats)\n",
    "    except:\n",
    "        gender_stats_list.append('Nil')\n",
    "    try:\n",
    "        earliest_birth_year = int(data['Birth Year'].min())\n",
    "        earliest_birth_year_list.append(earliest_birth_year)\n",
    "        latest_birth_year = int(data['Birth Year'].max())\n",
    "        latest_birth_year_list.append(latest_birth_year)\n",
    "        most_common_birth_year = int(data['Birth Year'].mode()[0])\n",
    "        most_common_birth_year_list.append(most_common_birth_year)\n",
    "    except:\n",
    "        earliest_birth_year_list.append('Nil')\n",
    "        latest_birth_year_list.append('Nil')\n",
    "        most_common_birth_year_list.append('Nil')"
   ]
  },
  {
   "cell_type": "code",
   "execution_count": 127,
   "id": "68b5dcb5",
   "metadata": {},
   "outputs": [
    {
     "name": "stdout",
     "output_type": "stream",
     "text": [
      "[Subscriber    238889\n",
      "Customer       61110\n",
      "Dependent          1\n",
      "Name: User Type, dtype: int64, Subscriber    269149\n",
      "Customer       30159\n",
      "Name: User Type, dtype: int64, Subscriber    220786\n",
      "Customer       79214\n",
      "Name: User Type, dtype: int64]\n",
      "[Male      181190\n",
      "Female     57758\n",
      "Name: Gender, dtype: int64, Male      204008\n",
      "Female     66783\n",
      "Name: Gender, dtype: int64, 'Nil']\n",
      "[1899, 1885, 'Nil']\n",
      "[2016, 2001, 'Nil']\n",
      "[1989, 1989, 'Nil']\n"
     ]
    }
   ],
   "source": [
    "print(user_type_stats_list)\n",
    "print(gender_stats_list)\n",
    "print(earliest_birth_year_list)\n",
    "print(latest_birth_year_list)\n",
    "print(most_common_birth_year_list)"
   ]
  },
  {
   "cell_type": "code",
   "execution_count": 128,
   "id": "bde6bc49",
   "metadata": {},
   "outputs": [
    {
     "name": "stdout",
     "output_type": "stream",
     "text": [
      "chicago Subscriber    238889\n",
      "Customer       61110\n",
      "Dependent          1\n",
      "Name: User Type, dtype: int64\n",
      "new york city Subscriber    269149\n",
      "Customer       30159\n",
      "Name: User Type, dtype: int64\n",
      "washington Subscriber    220786\n",
      "Customer       79214\n",
      "Name: User Type, dtype: int64\n",
      "chicago Male      181190\n",
      "Female     57758\n",
      "Name: Gender, dtype: int64\n",
      "new york city Male      204008\n",
      "Female     66783\n",
      "Name: Gender, dtype: int64\n",
      "washington Nil\n",
      "chicago 1899\n",
      "new york city 1885\n",
      "washington Nil\n",
      "chicago 2016\n",
      "new york city 2001\n",
      "washington Nil\n",
      "chicago 1989\n",
      "new york city 1989\n",
      "washington Nil\n"
     ]
    }
   ],
   "source": [
    "for x, y in zip(cities, user_type_stats_list):\n",
    "    print(x, y)\n",
    "for x, y in zip(cities, gender_stats_list):\n",
    "    print(x, y)\n",
    "for x, y in zip(cities, earliest_birth_year_list):\n",
    "    print(x, y)\n",
    "for x, y in zip(cities, latest_birth_year_list):\n",
    "    print(x, y)\n",
    "for x, y in zip(cities, most_common_birth_year_list):\n",
    "    print(x, y)"
   ]
  },
  {
   "cell_type": "code",
   "execution_count": 129,
   "id": "154ae44f",
   "metadata": {},
   "outputs": [],
   "source": [
    "user_type_stats_dict = dict(zip(cities, user_type_stats_list))\n",
    "gender_stats_dict = dict(zip(cities, gender_stats_list))\n",
    "earliest_birth_year_dict = dict(zip(cities, earliest_birth_year_list))\n",
    "latest_birth_year_dict = dict(zip(cities, latest_birth_year_list))\n",
    "most_common_birth_year_dict = dict(zip(cities, most_common_birth_year_list))"
   ]
  },
  {
   "cell_type": "code",
   "execution_count": 130,
   "id": "41dc2bfd",
   "metadata": {},
   "outputs": [
    {
     "name": "stdout",
     "output_type": "stream",
     "text": [
      "{'chicago': Subscriber    238889\n",
      "Customer       61110\n",
      "Dependent          1\n",
      "Name: User Type, dtype: int64, 'new york city': Subscriber    269149\n",
      "Customer       30159\n",
      "Name: User Type, dtype: int64, 'washington': Subscriber    220786\n",
      "Customer       79214\n",
      "Name: User Type, dtype: int64}\n",
      "{'chicago': Male      181190\n",
      "Female     57758\n",
      "Name: Gender, dtype: int64, 'new york city': Male      204008\n",
      "Female     66783\n",
      "Name: Gender, dtype: int64, 'washington': 'Nil'}\n",
      "{'chicago': 1899, 'new york city': 1885, 'washington': 'Nil'}\n",
      "{'chicago': 2016, 'new york city': 2001, 'washington': 'Nil'}\n",
      "{'chicago': 1989, 'new york city': 1989, 'washington': 'Nil'}\n"
     ]
    }
   ],
   "source": [
    "print(user_type_stats_dict)\n",
    "print(gender_stats_dict)\n",
    "print(earliest_birth_year_dict)\n",
    "print(latest_birth_year_dict)\n",
    "print(most_common_birth_year_dict)\n"
   ]
  },
  {
   "cell_type": "code",
   "execution_count": null,
   "id": "d8808137",
   "metadata": {},
   "outputs": [],
   "source": []
  }
 ],
 "metadata": {
  "kernelspec": {
   "display_name": "Python 3.9.12 ('base')",
   "language": "python",
   "name": "python3"
  },
  "language_info": {
   "codemirror_mode": {
    "name": "ipython",
    "version": 3
   },
   "file_extension": ".py",
   "mimetype": "text/x-python",
   "name": "python",
   "nbconvert_exporter": "python",
   "pygments_lexer": "ipython3",
   "version": "3.9.12"
  },
  "vscode": {
   "interpreter": {
    "hash": "263930470851f494f0ed2879c35b57985588df20f9e529b86e97dd5eb9ddc466"
   }
  }
 },
 "nbformat": 4,
 "nbformat_minor": 5
}
